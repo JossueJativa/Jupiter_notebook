{
 "cells": [
  {
   "cell_type": "markdown",
   "metadata": {
    "id": "Agwk4Oowy5DL"
   },
   "source": [
    "# **Modeling and simulation (Week 1)**\n",
    "\n",
    "*   What is a system?\n",
    "*   What is a model?\n",
    "*   What is a simulation?\n",
    "*   What are discrete and continuous variables?\n",
    "*   What is the difference between deterministic and stochastic?"
   ]
  },
  {
   "cell_type": "markdown",
   "metadata": {
    "id": "tCeGRhIxzhhL"
   },
   "source": [
    "## **1D Random Walk**\n",
    "\n",
    "A particle move in a 1D space: In one dimension the particle move up or down randomly with equal probability. The walks occurs for a given number of steps.\n",
    "\n",
    "There is a reflecting barrier - if the particle collides with the reflecting barrier, the next step is up.  There is also an absorbing barrier - if the particle collides with the abasorbing barrier the walk ends (the particle disappears).\n",
    "\n",
    "![](https://raw.githubusercontent.com/marsgr6/r-scripts/master/imgs/rwbarriers.png)\n",
    "\n",
    "The input (independent) variables of the system: this is how you set up your system.\n",
    "\n",
    "The output (dependent) variables of the system: this is what you observe according to the system setup.\n",
    "\n",
    "What type of system are you modeling/observing?"
   ]
  },
  {
   "cell_type": "markdown",
   "metadata": {
    "id": "7peYONr0v7QN"
   },
   "source": [
    "## **Continuous Uniform Distribution**\n",
    "\n",
    "![](https://upload.wikimedia.org/wikipedia/commons/thumb/9/96/Uniform_Distribution_PDF_SVG.svg/320px-Uniform_Distribution_PDF_SVG.svg.png)   \n",
    "[Continuous uniform distribution](https://en.wikipedia.org/wiki/Continuous_uniform_distribution)"
   ]
  },
  {
   "cell_type": "code",
   "execution_count": 3,
   "metadata": {
    "id": "LnN2GxZXv9Hh"
   },
   "outputs": [
    {
     "data": {
      "image/png": "[encoded data removed]",
      "text/plain": [
       "<Figure size 640x480 with 1 Axes>"
      ]
     },
     "metadata": {},
     "output_type": "display_data"
    }
   ],
   "source": [
    "import numpy as np\n",
    "import matplotlib.pyplot as plt\n",
    "\n",
    "h = plt.hist(np.random.random(size=1000000))"
   ]
  },
  {
   "cell_type": "code",
   "execution_count": null,
   "metadata": {
    "id": "fJpYDtK-hj6W"
   },
   "outputs": [
    {
     "ename": "",
     "evalue": "",
     "output_type": "error",
     "traceback": [
      "\u001b[1;31mRunning cells with 'c:\\Users\\User\\AppData\\Local\\Programs\\Python\\Python311\\python.exe' requires the ipykernel package.\n",
      "\u001b[1;31mRun the following command to install 'ipykernel' into the Python environment. \n",
      "\u001b[1;31mCommand: 'c:/Users/User/AppData/Local/Programs/Python/Python311/python.exe -m pip install ipykernel -U --user --force-reinstall'"
     ]
    }
   ],
   "source": [
    "(np.random.random(size=10) > 0.5).astype(int)"
   ]
  },
  {
   "cell_type": "markdown",
   "metadata": {
    "id": "5IlvkMuoiTlC"
   },
   "source": [
    "## **Assignments**\n",
    "\n",
    "**Assignment 1**: Complete the code for the function that generates a number +1 or -1 with uniform probability."
   ]
  },
  {
   "cell_type": "code",
   "execution_count": null,
   "metadata": {
    "id": "YJQO7KAdiztY"
   },
   "outputs": [
    {
     "ename": "",
     "evalue": "",
     "output_type": "error",
     "traceback": [
      "\u001b[1;31mRunning cells with 'c:\\Users\\User\\AppData\\Local\\Programs\\Python\\Python311\\python.exe' requires the ipykernel package.\n",
      "\u001b[1;31mRun the following command to install 'ipykernel' into the Python environment. \n",
      "\u001b[1;31mCommand: 'c:/Users/User/AppData/Local/Programs/Python/Python311/python.exe -m pip install ipykernel -U --user --force-reinstall'"
     ]
    }
   ],
   "source": [
    "def random_value():\n",
    "    ## WRITE YOUR CODE HERE\n",
    "    \n",
    "    ## --------------------\n",
    "    return dir\n",
    "\n",
    "random_value()"
   ]
  },
  {
   "cell_type": "markdown",
   "metadata": {
    "id": "Hze74_oyg7Ap"
   },
   "source": [
    "**Assignment 2**: Complete the code for the funtion that generates a vector of N elements with +1 and -1 using a uniform distribution."
   ]
  },
  {
   "cell_type": "code",
   "execution_count": null,
   "metadata": {
    "id": "Bn5BLvs9hTYx"
   },
   "outputs": [
    {
     "ename": "",
     "evalue": "",
     "output_type": "error",
     "traceback": [
      "\u001b[1;31mRunning cells with 'c:\\Users\\User\\AppData\\Local\\Programs\\Python\\Python311\\python.exe' requires the ipykernel package.\n",
      "\u001b[1;31mRun the following command to install 'ipykernel' into the Python environment. \n",
      "\u001b[1;31mCommand: 'c:/Users/User/AppData/Local/Programs/Python/Python311/python.exe -m pip install ipykernel -U --user --force-reinstall'"
     ]
    }
   ],
   "source": [
    "def random_vector(N):\n",
    "    ## WRITE YOUR CODE HERE\n",
    "    \n",
    "    ## --------------------\n",
    "    return dir\n",
    "\n",
    "random_vector(10)"
   ]
  },
  {
   "cell_type": "markdown",
   "metadata": {
    "id": "u225r6C4iQxM"
   },
   "source": [
    "We can use this code for visualizing a non-limited random walk."
   ]
  },
  {
   "cell_type": "code",
   "execution_count": null,
   "metadata": {
    "id": "n9d1F3ndfy-e"
   },
   "outputs": [
    {
     "ename": "",
     "evalue": "",
     "output_type": "error",
     "traceback": [
      "\u001b[1;31mRunning cells with 'c:\\Users\\User\\AppData\\Local\\Programs\\Python\\Python311\\python.exe' requires the ipykernel package.\n",
      "\u001b[1;31mRun the following command to install 'ipykernel' into the Python environment. \n",
      "\u001b[1;31mCommand: 'c:/Users/User/AppData/Local/Programs/Python/Python311/python.exe -m pip install ipykernel -U --user --force-reinstall'"
     ]
    }
   ],
   "source": [
    "p = plt.plot(random_vector(1000).cumsum())"
   ]
  },
  {
   "cell_type": "markdown",
   "metadata": {
    "id": "_I5a7INGkZED"
   },
   "source": [
    "**Assignment 3**: Complete the code for the function that generates a 1D random walk."
   ]
  },
  {
   "cell_type": "code",
   "execution_count": null,
   "metadata": {
    "id": "LCAyvNOLjljI"
   },
   "outputs": [
    {
     "ename": "",
     "evalue": "",
     "output_type": "error",
     "traceback": [
      "\u001b[1;31mRunning cells with 'c:\\Users\\User\\AppData\\Local\\Programs\\Python\\Python311\\python.exe' requires the ipykernel package.\n",
      "\u001b[1;31mRun the following command to install 'ipykernel' into the Python environment. \n",
      "\u001b[1;31mCommand: 'c:/Users/User/AppData/Local/Programs/Python/Python311/python.exe -m pip install ipykernel -U --user --force-reinstall'"
     ]
    }
   ],
   "source": [
    "def make_walk(absorbing_barrier, reflecting_barrier=0, start=0):\n",
    "    walk = [start]\n",
    "    ## WRITE YOUR CODE HERE\n",
    "    \n",
    "    ## --------------------\n",
    "    return walk\n",
    "\n",
    "absorbing_barrier = 4\n",
    "walk = make_walk(absorbing_barrier)\n",
    "\n",
    "plt.hlines(0, 0, len(walk), colors='g')\n",
    "plt.hlines(absorbing_barrier, 0, len(walk), colors='r')\n",
    "s = plt.step(range(len(walk)), walk)"
   ]
  },
  {
   "cell_type": "code",
   "execution_count": null,
   "metadata": {
    "id": "Hii1g5iTlnUj"
   },
   "outputs": [
    {
     "ename": "",
     "evalue": "",
     "output_type": "error",
     "traceback": [
      "\u001b[1;31mRunning cells with 'c:\\Users\\User\\AppData\\Local\\Programs\\Python\\Python311\\python.exe' requires the ipykernel package.\n",
      "\u001b[1;31mRun the following command to install 'ipykernel' into the Python environment. \n",
      "\u001b[1;31mCommand: 'c:/Users/User/AppData/Local/Programs/Python/Python311/python.exe -m pip install ipykernel -U --user --force-reinstall'"
     ]
    }
   ],
   "source": [
    "walk = make_walk(absorbing_barrier)\n",
    "print(walk, \" - \", len(walk))"
   ]
  },
  {
   "cell_type": "markdown",
   "metadata": {
    "id": "luk3XJ_7qOBL"
   },
   "source": [
    "**Assignment 4**: Complete the code for the function that computes the average walk for a given absorbing barrier."
   ]
  },
  {
   "cell_type": "code",
   "execution_count": null,
   "metadata": {
    "id": "5Biq3VQwl1aG"
   },
   "outputs": [
    {
     "ename": "",
     "evalue": "",
     "output_type": "error",
     "traceback": [
      "\u001b[1;31mRunning cells with 'c:\\Users\\User\\AppData\\Local\\Programs\\Python\\Python311\\python.exe' requires the ipykernel package.\n",
      "\u001b[1;31mRun the following command to install 'ipykernel' into the Python environment. \n",
      "\u001b[1;31mCommand: 'c:/Users/User/AppData/Local/Programs/Python/Python311/python.exe -m pip install ipykernel -U --user --force-reinstall'"
     ]
    }
   ],
   "source": [
    "def average_steps(absorbing_barrier=4, num_trials=1000):\n",
    "    ## WRITE YOUR CODE HERE\n",
    "    \n",
    "    ## --------------------\n",
    "    return value\n",
    "\n",
    "average_steps(absorbing_barrier=4, num_trials=10000)"
   ]
  },
  {
   "cell_type": "markdown",
   "metadata": {
    "id": "8WmcHlLVkDrH"
   },
   "source": [
    "Let's compare with its theoretical average walk."
   ]
  },
  {
   "cell_type": "code",
   "execution_count": null,
   "metadata": {
    "id": "yVl3ETPmmRHK"
   },
   "outputs": [
    {
     "ename": "",
     "evalue": "",
     "output_type": "error",
     "traceback": [
      "\u001b[1;31mRunning cells with 'c:\\Users\\User\\AppData\\Local\\Programs\\Python\\Python311\\python.exe' requires the ipykernel package.\n",
      "\u001b[1;31mRun the following command to install 'ipykernel' into the Python environment. \n",
      "\u001b[1;31mCommand: 'c:/Users/User/AppData/Local/Programs/Python/Python311/python.exe -m pip install ipykernel -U --user --force-reinstall'"
     ]
    }
   ],
   "source": [
    "n = np.array([4, 5, 6, 7, 8, 9, 10])\n",
    "mw = []  # mean life\n",
    "for ni in n:\n",
    "    mw.append(average_steps(absorbing_barrier=ni))\n",
    "plt.plot(n, mw, \"o\", label=\"Simulation\")  # Simulation\n",
    "plt.plot(n, n**2, \":x\", label=r\"Theory$=n^2$\")  # Theory\n",
    "plt.legend();"
   ]
  },
  {
   "cell_type": "markdown",
   "metadata": {
    "id": "D5x-NQJsrJwx"
   },
   "source": [
    "## **Final Analysis**"
   ]
  },
  {
   "cell_type": "code",
   "execution_count": null,
   "metadata": {
    "id": "bmlcNxi3maCI"
   },
   "outputs": [
    {
     "ename": "",
     "evalue": "",
     "output_type": "error",
     "traceback": [
      "\u001b[1;31mRunning cells with 'c:\\Users\\User\\AppData\\Local\\Programs\\Python\\Python311\\python.exe' requires the ipykernel package.\n",
      "\u001b[1;31mRun the following command to install 'ipykernel' into the Python environment. \n",
      "\u001b[1;31mCommand: 'c:/Users/User/AppData/Local/Programs/Python/Python311/python.exe -m pip install ipykernel -U --user --force-reinstall'"
     ]
    }
   ],
   "source": [
    "walk_n4 = np.array([len(make_walk(absorbing_barrier=4)) - 1 for i in range(1000)])\n",
    "w = plt.plot(walk_n4, range(len(walk_n4)), 'o')"
   ]
  },
  {
   "cell_type": "code",
   "execution_count": null,
   "metadata": {
    "id": "S6gfID40moGy"
   },
   "outputs": [
    {
     "ename": "",
     "evalue": "",
     "output_type": "error",
     "traceback": [
      "\u001b[1;31mRunning cells with 'c:\\Users\\User\\AppData\\Local\\Programs\\Python\\Python311\\python.exe' requires the ipykernel package.\n",
      "\u001b[1;31mRun the following command to install 'ipykernel' into the Python environment. \n",
      "\u001b[1;31mCommand: 'c:/Users/User/AppData/Local/Programs/Python/Python311/python.exe -m pip install ipykernel -U --user --force-reinstall'"
     ]
    }
   ],
   "source": [
    "x, fx = np.unique(walk_n4, return_counts=True)\n",
    "b = plt.bar(x, fx/fx.sum())"
   ]
  },
  {
   "cell_type": "code",
   "execution_count": null,
   "metadata": {
    "id": "4J26IbPxnVIZ"
   },
   "outputs": [
    {
     "ename": "",
     "evalue": "",
     "output_type": "error",
     "traceback": [
      "\u001b[1;31mRunning cells with 'c:\\Users\\User\\AppData\\Local\\Programs\\Python\\Python311\\python.exe' requires the ipykernel package.\n",
      "\u001b[1;31mRun the following command to install 'ipykernel' into the Python environment. \n",
      "\u001b[1;31mCommand: 'c:/Users/User/AppData/Local/Programs/Python/Python311/python.exe -m pip install ipykernel -U --user --force-reinstall'"
     ]
    }
   ],
   "source": [
    "h = plt.hist(walk_n4, bins=20)"
   ]
  },
  {
   "cell_type": "code",
   "execution_count": null,
   "metadata": {
    "id": "gs2kmdgancZN"
   },
   "outputs": [
    {
     "ename": "",
     "evalue": "",
     "output_type": "error",
     "traceback": [
      "\u001b[1;31mRunning cells with 'c:\\Users\\User\\AppData\\Local\\Programs\\Python\\Python311\\python.exe' requires the ipykernel package.\n",
      "\u001b[1;31mRun the following command to install 'ipykernel' into the Python environment. \n",
      "\u001b[1;31mCommand: 'c:/Users/User/AppData/Local/Programs/Python/Python311/python.exe -m pip install ipykernel -U --user --force-reinstall'"
     ]
    }
   ],
   "source": [
    "import seaborn as sns\n",
    "bp = sns.boxplot(walk_n4)"
   ]
  },
  {
   "cell_type": "markdown",
   "metadata": {
    "id": "kearIvV-5vvu"
   },
   "source": [
    "**Assignment 5**: What is the minimum and maximum number of steps in 100000 executions when `absorbing_barrier=4`?"
   ]
  },
  {
   "cell_type": "code",
   "execution_count": null,
   "metadata": {
    "id": "zW0AgOLpnGsg"
   },
   "outputs": [
    {
     "ename": "",
     "evalue": "",
     "output_type": "error",
     "traceback": [
      "\u001b[1;31mRunning cells with 'c:\\Users\\User\\AppData\\Local\\Programs\\Python\\Python311\\python.exe' requires the ipykernel package.\n",
      "\u001b[1;31mRun the following command to install 'ipykernel' into the Python environment. \n",
      "\u001b[1;31mCommand: 'c:/Users/User/AppData/Local/Programs/Python/Python311/python.exe -m pip install ipykernel -U --user --force-reinstall'"
     ]
    }
   ],
   "source": [
    "## WRITE YOUR CODE HERE\n",
    "\n",
    "## --------------------"
   ]
  },
  {
   "cell_type": "markdown",
   "metadata": {
    "id": "1yBePgEBnLJM"
   },
   "source": [
    "**Assignment 6**: Is the behavior observed with `absorbing_barrier=4` the same as the behavior that can be observed with `absorbing_barrier` in `[5, 6, 7, 8]`? What are the main differences and similarities in each case?"
   ]
  }
 ],
 "metadata": {
  "colab": {
   "provenance": []
  },
  "kernelspec": {
   "display_name": "Python 3 (ipykernel)",
   "language": "python",
   "name": "python3"
  },
  "language_info": {
   "codemirror_mode": {
    "name": "ipython",
    "version": 3
   },
   "file_extension": ".py",
   "mimetype": "text/x-python",
   "name": "python",
   "nbconvert_exporter": "python",
   "pygments_lexer": "ipython3",
   "version": "3.11.5"
  }
 },
 "nbformat": 4,
 "nbformat_minor": 1
}
