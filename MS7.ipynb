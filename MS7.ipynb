{
 "cells": [
  {
   "cell_type": "markdown",
   "metadata": {},
   "source": [
    "# Ejercicios de MS7"
   ]
  },
  {
   "cell_type": "markdown",
   "metadata": {},
   "source": [
    "## Ejercicio 1\n",
    "Verify that the probability that a 2-by-2 system percolates is 𝑝^2*(2−𝑝^2), where 𝑝 is the probability that a site is open.  Compute the percolation probability for 𝑝 ∈ {0.1, 0.2, 0.3, 0.4, 0.5, 0.6, 0.7, 0.8, 0.9} through simulation and compare it with its theoretical value (see: https://introcs.cs.princeton.edu/java/24percolation/)."
   ]
  },
  {
   "cell_type": "code",
   "execution_count": 76,
   "metadata": {},
   "outputs": [
    {
     "data": {
      "text/plain": [
       "False"
      ]
     },
     "execution_count": 76,
     "metadata": {},
     "output_type": "execute_result"
    }
   ],
   "source": [
    "import numpy as np\n",
    "\n",
    "def does_percolate(grid):\n",
    "    return np.any(grid[0, :])\n",
    "\n",
    "def random_grid(size, p):\n",
    "    return np.random.rand(size, size) < p\n",
    "\n",
    "def percolates(size, p):\n",
    "    grid = random_grid(size, p)\n",
    "    \n",
    "    if does_percolate(grid):\n",
    "        return True\n",
    "    else:\n",
    "        return False\n",
    "\n",
    "size = 2\n",
    "p = 0.4\n",
    "\n",
    "percolates(size, p)"
   ]
  },
  {
   "cell_type": "code",
   "execution_count": 77,
   "metadata": {},
   "outputs": [
    {
     "name": "stdout",
     "output_type": "stream",
     "text": [
      "For p = 0.1\n",
      "Empirical Probability: 0.184\n",
      "Theoretical Probability: 0.36000000000000004\n",
      "========================================\n",
      "For p = 0.2\n",
      "Empirical Probability: 0.367\n",
      "Theoretical Probability: 0.6400000000000001\n",
      "========================================\n",
      "For p = 0.3\n",
      "Empirical Probability: 0.516\n",
      "Theoretical Probability: 0.84\n",
      "========================================\n",
      "For p = 0.4\n",
      "Empirical Probability: 0.632\n",
      "Theoretical Probability: 0.96\n",
      "========================================\n",
      "For p = 0.5\n",
      "Empirical Probability: 0.738\n",
      "Theoretical Probability: 1.0\n",
      "========================================\n",
      "For p = 0.6\n",
      "Empirical Probability: 0.836\n",
      "Theoretical Probability: 0.96\n",
      "========================================\n",
      "For p = 0.7\n",
      "Empirical Probability: 0.904\n",
      "Theoretical Probability: 0.8400000000000001\n",
      "========================================\n",
      "For p = 0.8\n",
      "Empirical Probability: 0.953\n",
      "Theoretical Probability: 0.6399999999999999\n",
      "========================================\n",
      "For p = 0.9\n",
      "Empirical Probability: 0.992\n",
      "Theoretical Probability: 0.35999999999999993\n",
      "========================================\n"
     ]
    }
   ],
   "source": [
    "def percolation_probability(p, size, trials):\n",
    "    percolations = 0\n",
    "    \n",
    "    for _ in range(trials):\n",
    "        if percolates(size, p):\n",
    "            percolations += 1\n",
    "    \n",
    "    return percolations\n",
    "\n",
    "def theoretical_percolation_probability(p):\n",
    "    return p*2 * (2 - p*2)\n",
    "\n",
    "size = 2\n",
    "ps = [0.1, 0.2, 0.3, 0.4, 0.5, 0.6, 0.7, 0.8, 0.9]\n",
    "trials = 1000\n",
    "\n",
    "for p in ps:\n",
    "    empirical_probability = percolation_probability(p, size, trials)\n",
    "    theoretical_probability = theoretical_percolation_probability(p)\n",
    "\n",
    "    print(f\"For p = {p}\")\n",
    "    print(f\"Empirical Probability: {empirical_probability/trials}\")\n",
    "    print(f\"Theoretical Probability: {theoretical_probability}\")\n",
    "    print(\"=\" * 40)"
   ]
  },
  {
   "cell_type": "markdown",
   "metadata": {},
   "source": [
    "## Ejercicio 2\n",
    "Generate random binary vectors of 100 values where the P(X=1)=p. Calculate the mean Hamming distance between any two random vectors. Try p ∈ {0.0, 0.1, 0.2, 0.3, 0.4, 0.5, 0.6, 0.7, 0.8, 0.9, 1.0} (see: https://en.wikipedia.org/wiki/Hamming_distance). What is the theoretical value for the mean distance according to p?"
   ]
  },
  {
   "cell_type": "code",
   "execution_count": 78,
   "metadata": {},
   "outputs": [
    {
     "name": "stdout",
     "output_type": "stream",
     "text": [
      "For p = 0.0, the mean Hamming distance is 0.0\n",
      "For p = 0.1, the mean Hamming distance is 17.890364364364363\n",
      "For p = 0.2, the mean Hamming distance is 31.971383383383383\n",
      "For p = 0.3, the mean Hamming distance is 41.908064064064064\n",
      "For p = 0.4, the mean Hamming distance is 48.003197197197196\n",
      "For p = 0.5, the mean Hamming distance is 50.00131131131131\n",
      "For p = 0.6, the mean Hamming distance is 48.0408008008008\n",
      "For p = 0.7, the mean Hamming distance is 42.13083283283283\n",
      "For p = 0.8, the mean Hamming distance is 32.0968068068068\n",
      "For p = 0.9, the mean Hamming distance is 18.081073073073075\n",
      "For p = 1.0, the mean Hamming distance is 0.0\n"
     ]
    }
   ],
   "source": [
    "def generate_random_binary_vectors(p, num_vectors, num_values):\n",
    "    vectors = np.random.choice([0, 1], size=(num_vectors, num_values), p=[1-p, p])\n",
    "    return vectors\n",
    "\n",
    "def calculate_mean_hamming_distance(vectors):\n",
    "    num_vectors = len(vectors)\n",
    "    mean_distance = 0\n",
    "\n",
    "    for i in range(num_vectors):\n",
    "        for j in range(i+1, num_vectors):\n",
    "            distance = np.sum(vectors[i] != vectors[j])\n",
    "            mean_distance += distance\n",
    "\n",
    "    mean_distance /= (num_vectors * (num_vectors - 1) / 2)\n",
    "    return mean_distance\n",
    "\n",
    "p_values = [0.0, 0.1, 0.2, 0.3, 0.4, 0.5, 0.6, 0.7, 0.8, 0.9, 1.0]\n",
    "num_vectors = 1000\n",
    "num_values = 100\n",
    "\n",
    "for p in p_values:\n",
    "    vectors = generate_random_binary_vectors(p, num_vectors, num_values)\n",
    "    mean_distance = calculate_mean_hamming_distance(vectors)\n",
    "    print(f\"For p = {p}, the mean Hamming distance is {mean_distance}\")"
   ]
  }
 ],
 "metadata": {
  "kernelspec": {
   "display_name": "env_notebook",
   "language": "python",
   "name": "python3"
  },
  "language_info": {
   "codemirror_mode": {
    "name": "ipython",
    "version": 3
   },
   "file_extension": ".py",
   "mimetype": "text/x-python",
   "name": "python",
   "nbconvert_exporter": "python",
   "pygments_lexer": "ipython3",
   "version": "3.11.5"
  }
 },
 "nbformat": 4,
 "nbformat_minor": 2
}
