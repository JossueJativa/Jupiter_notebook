{
 "cells": [
  {
   "cell_type": "markdown",
   "metadata": {
    "id": "-YkfVapdS84X"
   },
   "source": [
    "# **Pseudo-random numbers**"
   ]
  },
  {
   "cell_type": "markdown",
   "metadata": {
    "id": "yZeBQsl5BMaB"
   },
   "source": [
    "**Assignment 1**: Complete the code below to generate a pseudorandom sequence based on the value of $\\pi$"
   ]
  },
  {
   "cell_type": "code",
   "execution_count": 1,
   "metadata": {
    "cell_id": "40d85b2c4356403a99d3eb9bb9ecde0b",
    "deepnote_cell_type": "code",
    "deepnote_to_be_reexecuted": false,
    "execution_millis": 1686,
    "execution_start": 1681931837748,
    "id": "sLOK1LSvS8DZ",
    "source_hash": "b6d65e74",
    "tags": []
   },
   "outputs": [
    {
     "ename": "IndentationError",
     "evalue": "expected an indented block after 'for' statement on line 35 (1081047670.py, line 39)",
     "output_type": "error",
     "traceback": [
      "\u001b[1;36m  Cell \u001b[1;32mIn[1], line 39\u001b[1;36m\u001b[0m\n\u001b[1;33m    return seq\u001b[0m\n\u001b[1;37m    ^\u001b[0m\n\u001b[1;31mIndentationError\u001b[0m\u001b[1;31m:\u001b[0m expected an indented block after 'for' statement on line 35\n"
     ]
    }
   ],
   "source": [
    "import numpy as np\n",
    "import matplotlib.pyplot as plt\n",
    "\n",
    "# Store the first 1000 digits of pi\n",
    "pi = (\"14159265358979323846264338327950288419716939937510\"\n",
    "    \"58209749445923078164062862089986280348253421170679\"\n",
    "    \"82148086513282306647093844609550582231725359408128\"\n",
    "    \"48111745028410270193852110555964462294895493038196\"\n",
    "    \"44288109756659334461284756482337867831652712019091\"\n",
    "    \"45648566923460348610454326648213393607260249141273\"\n",
    "    \"72458700660631558817488152092096282925409171536436\"\n",
    "    \"78925903600113305305488204665213841469519415116094\"\n",
    "    \"33057270365759591953092186117381932611793105118548\"\n",
    "    \"07446237996274956735188575272489122793818301194912\"\n",
    "    \"98336733624406566430860213949463952247371907021798\"\n",
    "    \"60943702770539217176293176752384674818467669405132\"\n",
    "    \"00056812714526356082778577134275778960917363717872\"\n",
    "    \"14684409012249534301465495853710507922796892589235\"\n",
    "    \"42019956112129021960864034418159813629774771309960\"\n",
    "    \"51870721134999999837297804995105973173281609631859\"\n",
    "    \"50244594553469083026425223082533446850352619311881\"\n",
    "    \"71010003137838752886587533208381420617177669147303\"\n",
    "    \"59825349042875546873115956286388235378759375195778\"\n",
    "    \"18577805321712268066130019278766111959092164201989\")\n",
    "\n",
    "def randomGenerator(size=100, seed=0):\n",
    "    \"\"\"\n",
    "    Input:\n",
    "        size: length of the random sequence\n",
    "        seed: seed for the sequence\n",
    "    Output:\n",
    "        seq: list with the random sequence\n",
    "    \"\"\"\n",
    "    seq = []\n",
    "    for i in range(size):\n",
    "        ## WRITE YOUR CODE HERE\n",
    "        \n",
    "        #----------------------\n",
    "    return seq\n",
    "\n",
    "seq = randomGenerator(3000, 8)\n",
    "plt.figure(figsize=(12,3))\n",
    "p = plt.plot(np.array(seq)/9)"
   ]
  },
  {
   "cell_type": "markdown",
   "metadata": {
    "id": "TgwjG3SZBbFW"
   },
   "source": [
    "**Assigment 2**: Complete the code below to count the number of times that appears each value."
   ]
  },
  {
   "cell_type": "code",
   "execution_count": null,
   "metadata": {
    "id": "Hb8KdumT5v-d"
   },
   "outputs": [],
   "source": [
    "def freqCount(seq):\n",
    "    \"\"\"\n",
    "    Input: random sequence (seq)\n",
    "    Output: frequency count (freq)\n",
    "    \"\"\"\n",
    "    freq = [0 for i in range(max(seq) + 1)]\n",
    "    for i in seq:\n",
    "        ## WRITE YOUR CODE HERE\n",
    "        \n",
    "        #----------------------\n",
    "    return freq\n",
    "\n",
    "freq = freqCount(seq)\n",
    "p = plt.bar(range(max(seq) + 1), freq)"
   ]
  },
  {
   "cell_type": "code",
   "execution_count": null,
   "metadata": {
    "cell_id": "2e47b1f4fdea429e911263def8f55ebc",
    "deepnote_cell_type": "code",
    "deepnote_to_be_reexecuted": false,
    "execution_millis": 5,
    "execution_start": 1681513991983,
    "id": "2b-fLKw1S8Dh",
    "source_hash": "7928304b"
   },
   "outputs": [],
   "source": [
    "import datetime as dt\n",
    "\n",
    "int(str(dt.datetime.now().microsecond)[:3])"
   ]
  },
  {
   "cell_type": "markdown",
   "metadata": {
    "id": "OcDz1MngVorA"
   },
   "source": [
    "## Moving Average"
   ]
  },
  {
   "cell_type": "code",
   "execution_count": null,
   "metadata": {
    "cell_id": "3aa0d6ad0d5d4b59ab2d9e77f9878c1e",
    "deepnote_cell_type": "code",
    "deepnote_to_be_reexecuted": false,
    "execution_millis": 79,
    "execution_start": 1681931860262,
    "id": "IBy2LlhCS8Di",
    "source_hash": "71f137f9"
   },
   "outputs": [],
   "source": [
    "from scipy.ndimage import uniform_filter1d\n",
    "\n",
    "arr = np.array(seq.copy())/9\n",
    "window_size = 200\n",
    "moving_averages = []\n",
    "\n",
    "i = 0\n",
    "while i < len(arr) - window_size + 1:\n",
    "    window = arr[i : i + window_size]\n",
    "    window_average = sum(window)/window_size\n",
    "    moving_averages.append(window_average)\n",
    "    i += 1\n",
    "\n",
    "print(len(moving_averages))\n",
    "plt.figure(figsize=(12,3))\n",
    "plt.plot(moving_averages)\n",
    "moving_averages = np.array(moving_averages)\n",
    "minimum = np.where(moving_averages == moving_averages.min())[0]\n",
    "p = plt.plot(minimum, moving_averages[minimum], 'or')"
   ]
  },
  {
   "cell_type": "code",
   "execution_count": null,
   "metadata": {
    "cell_id": "4db859eafb8a4313b37c643fa8d557fb",
    "deepnote_cell_type": "code",
    "deepnote_to_be_reexecuted": false,
    "execution_millis": 121,
    "execution_start": 1681932024642,
    "id": "bF5AxBzRS8Dj",
    "source_hash": "ee6416c1"
   },
   "outputs": [],
   "source": [
    "avg_data = uniform_filter1d(arr, size=200)\n",
    "print(len(avg_data))\n",
    "\n",
    "plt.figure(figsize=(12,3))\n",
    "p = plt.plot(avg_data)"
   ]
  },
  {
   "cell_type": "markdown",
   "metadata": {
    "cell_id": "23c7d7611cbb448595de0e4ddc08601a",
    "deepnote_cell_type": "markdown",
    "id": "CYgtVh-WS8Dk",
    "tags": []
   },
   "source": [
    "## Linear congruential generator\n",
    "\n",
    " Implement a linear congruential generator ([LCG](https://en.wikipedia.org/wiki/Linear_congruential_generator))\n",
    "\n",
    "$X_n = (a \\cdot X_{n-1} + c) \\text{ mod } m$\n",
    "\n",
    "  - $a$: multiplier\n",
    "  - $c$: increment\n",
    "  - $m$: modulus\n",
    "  - $X_0$: seed\n",
    "\n",
    "LCG Theorem:\n",
    "\n",
    "1. $m$ and $c$ are relatively prime\n",
    "2. $a-1$ is divisible by every prime factor of $m$\n",
    "3. If $m$ is a multiple of 4, then $a-1$ is a multiple of $4$\n",
    "\n",
    "**Assignment 3**: Complete the code below to implement LCG."
   ]
  },
  {
   "cell_type": "code",
   "execution_count": null,
   "metadata": {
    "cell_id": "84686b9bc1da433a85e180978774dc22",
    "deepnote_cell_type": "code",
    "deepnote_to_be_reexecuted": false,
    "execution_millis": 42,
    "execution_start": 1681517209706,
    "id": "IWQCiHRGS8Dn",
    "source_hash": "a51e4514"
   },
   "outputs": [],
   "source": [
    "def lcg(seed=0, increment=1, multiplier=31, modulus=256, size=100):\n",
    "    seq = [seed]\n",
    "    for i in range(size-1):\n",
    "        ## WRITE YOUR CODE HERE\n",
    "        \n",
    "        ## --------------------\n",
    "    return seq\n",
    "\n",
    "m = 80  # this will give us the cycle size in above conditions are met\n",
    "c = 3\n",
    "a = 21\n",
    "X0 = 4\n",
    "seq = lcg(seed=X0, increment=c, multiplier=a, modulus=m, size=400)\n",
    "plt.figure(figsize=(12,3))\n",
    "p = plt.plot(np.array(seq)/(m-1))"
   ]
  },
  {
   "cell_type": "markdown",
   "metadata": {
    "id": "Wg9EgcRZB5C7"
   },
   "source": [
    "**Assigment 4**: Write a code to count the number of times that appears each value and plot the corresponding histogram."
   ]
  },
  {
   "cell_type": "code",
   "execution_count": null,
   "metadata": {
    "id": "4poUiXeqBABA"
   },
   "outputs": [],
   "source": [
    "## WRITE YOUR CODE HERE\n",
    "\n",
    "## --------------------"
   ]
  },
  {
   "cell_type": "markdown",
   "metadata": {
    "id": "yN2pYQHCnvC9"
   },
   "source": [
    "**Assignment 5**: Generate a sequence with the useful values given below."
   ]
  },
  {
   "cell_type": "code",
   "execution_count": null,
   "metadata": {
    "cell_id": "2b33d4cd5f34428eb8bb1f15d5ac6d38",
    "deepnote_cell_type": "code",
    "deepnote_to_be_reexecuted": false,
    "execution_millis": 0,
    "execution_start": 1681517339675,
    "id": "DcalkfdcS8Dp",
    "source_hash": "16d7cb6b"
   },
   "outputs": [],
   "source": [
    "m = 2**32\n",
    "a = 1103515245\n",
    "c = 12345\n",
    "X0 = dt.datetime.now().microsecond\n",
    "size = 1000\n",
    "## WRITE YOUR CODE HERE\n",
    "\n",
    "## --------------------\n",
    "plt.figure(figsize=(12,3))\n",
    "p = plt.plot(np.array(X)/(m-1))"
   ]
  },
  {
   "cell_type": "markdown",
   "metadata": {
    "id": "cl-wbcalnAup"
   },
   "source": [
    "**Assignment 6**: Calculate the moving average of the last sequence and visually determine if there is any repeated pattern."
   ]
  },
  {
   "cell_type": "code",
   "execution_count": null,
   "metadata": {
    "id": "JTP27LyfnYLx"
   },
   "outputs": [],
   "source": [
    "## WRITE YOUR CODE HERE\n",
    "\n",
    "## --------------------"
   ]
  },
  {
   "cell_type": "markdown",
   "metadata": {
    "id": "LWVK69g3C6Bm"
   },
   "source": [
    "## Overlapping Pairs"
   ]
  },
  {
   "cell_type": "code",
   "execution_count": null,
   "metadata": {
    "id": "-aeOf8L4DBVh"
   },
   "outputs": [],
   "source": [
    "def pairs(seq):\n",
    "    \"\"\"\n",
    "    Returns Xi, Xi+1 point coordinates from sequence seq\n",
    "    \"\"\"\n",
    "    N = len(seq)\n",
    "    x_coord, y_coord = [], []\n",
    "    for i in range(N - 1):\n",
    "        x_coord += [seq[i]]\n",
    "        y_coord += [seq[i+1]]\n",
    "    return x_coord, y_coord\n",
    "\n",
    "seq = randomGenerator(512, 8)\n",
    "x, y = pairs(seq)\n",
    "plt.plot(x, y, 'o')\n",
    "plt.show()"
   ]
  },
  {
   "cell_type": "code",
   "execution_count": null,
   "metadata": {
    "id": "2Eqa1teZDjtm"
   },
   "outputs": [],
   "source": [
    "seq = lcg(seed=7, increment=101, multiplier=401, modulus=1024, size=512)\n",
    "x, y = pairs(seq)\n",
    "plt.plot(x, y, 'o')\n",
    "plt.show()"
   ]
  },
  {
   "cell_type": "markdown",
   "metadata": {
    "id": "k_I1d0adEG4V"
   },
   "source": [
    "**Assignment 7**: What conclusion could you draw from the two previous overlapping pair plots?"
   ]
  },
  {
   "cell_type": "markdown",
   "metadata": {
    "id": "rHbxTMW-iuUT"
   },
   "source": [
    "## Probability Computation\n",
    "\n",
    "**Assignment 8**: Determine the probability of getting 5 heads out of 10 coin tosses."
   ]
  },
  {
   "cell_type": "code",
   "execution_count": null,
   "metadata": {
    "id": "DwafEB-7i_ZM"
   },
   "outputs": [],
   "source": [
    "## WRITE YOUR CODE HERE\n",
    "\n",
    "## --------------------"
   ]
  },
  {
   "cell_type": "markdown",
   "metadata": {
    "id": "VAnVzudgjBs2"
   },
   "source": [
    "**Assignment 9**: Determine the probability of getting 50 heads out of 100 coin tosses.  Same probability or not?"
   ]
  },
  {
   "cell_type": "code",
   "execution_count": null,
   "metadata": {
    "id": "C3d293BejO-u"
   },
   "outputs": [],
   "source": [
    "## WRITE YOUR CODE HERE\n",
    "\n",
    "## --------------------"
   ]
  },
  {
   "cell_type": "markdown",
   "metadata": {
    "cell_id": "951b9d3afb22433d87f31173ddf17d82",
    "deepnote_cell_type": "markdown",
    "id": "v9azb37eS8Dq"
   },
   "source": [
    "## Birthday Problem\n",
    "\n",
    "Implement the birhtday problem: https://en.wikipedia.org/wiki/Birthday_problem\n",
    "\n",
    "**Assignment 10**: Plot the probability that in a set of $n$ randomly chosen people, at leat two will share a birthday.  Vary $n$ between 0 and 100."
   ]
  },
  {
   "cell_type": "code",
   "execution_count": null,
   "metadata": {
    "allow_embed": false,
    "cell_id": "ba354a4e06d74f4b81cf816d6f4d3272",
    "deepnote_cell_type": "code",
    "deepnote_to_be_reexecuted": false,
    "execution_millis": 48,
    "execution_start": 1681513826439,
    "id": "1rE6Fb0US8Ds",
    "source_hash": "d1ccb3b7"
   },
   "outputs": [],
   "source": [
    "## WRITE YOUR CODE HERE\n",
    "\n",
    "## --------------------"
   ]
  }
 ],
 "metadata": {
  "colab": {
   "provenance": []
  },
  "deepnote": {},
  "deepnote_execution_queue": [],
  "deepnote_notebook_id": "857060b09c7d4f4e8bd655fc9da88f9a",
  "deepnote_persisted_session": {
   "createdAt": "2023-04-19T19:47:16.746Z"
  },
  "kernelspec": {
   "display_name": "Python 3 (ipykernel)",
   "language": "python",
   "name": "python3"
  },
  "language_info": {
   "codemirror_mode": {
    "name": "ipython",
    "version": 3
   },
   "file_extension": ".py",
   "mimetype": "text/x-python",
   "name": "python",
   "nbconvert_exporter": "python",
   "pygments_lexer": "ipython3",
   "version": "3.11.5"
  }
 },
 "nbformat": 4,
 "nbformat_minor": 1
}
