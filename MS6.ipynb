{
 "cells": [
  {
   "cell_type": "markdown",
   "metadata": {},
   "source": [
    "# Ejercicios de semana 6"
   ]
  },
  {
   "cell_type": "markdown",
   "metadata": {},
   "source": [
    "## Ejercicio 1\n",
    "Generate a sequence of N independent random variables with values 0 (with probability 1-p) or 1 (with probability p) and print out this sequence without space between the numbers (i.e., 00101101011011101001, for N=20 and p=0.5)."
   ]
  },
  {
   "cell_type": "code",
   "execution_count": 2,
   "metadata": {},
   "outputs": [
    {
     "name": "stdout",
     "output_type": "stream",
     "text": [
      "La secuencia generada independiente es: 11001010101001111111\n"
     ]
    }
   ],
   "source": [
    "import random\n",
    "\n",
    "def generate_sequence_Independent(n, p):\n",
    "    sequence = ''\n",
    "    for _ in range(n):\n",
    "        sequence += str(int(random.random() < p))\n",
    "    return sequence\n",
    "\n",
    "n = 20\n",
    "i = 0.5\n",
    "\n",
    "print(F\"La secuencia generada independiente es: {generate_sequence_Independent(n, i)}\")"
   ]
  },
  {
   "cell_type": "markdown",
   "metadata": {},
   "source": [
    "## Ejercicio 2\n",
    "Now, generate random zeros and ones that are dependent.  If the last generated number was 0, the probability of generating a new 0 is p and a new 1 is 1-p. Conversely, if the last generated was 1, the probability of generating a new 1 is p and a new 0 is 1-p. Since the new value depends on the last one, we say the variables are dependent. Implement this algorithm in a function returning an array of N zeros and ones. Print out this array in the condense format as described above."
   ]
  },
  {
   "cell_type": "code",
   "execution_count": 28,
   "metadata": {},
   "outputs": [
    {
     "name": "stdout",
     "output_type": "stream",
     "text": [
      "La generacion aleatorioa de numeros dependiente es: 1010101010101010101\n"
     ]
    }
   ],
   "source": [
    "import numpy as np\n",
    "def generate_sequence_dependent(N, p):\n",
    "    # Initialize an array to store the generated sequence\n",
    "    secuence = ''\n",
    "    array = np.zeros(N, dtype=int)\n",
    "    \n",
    "    array[0] = random.choices([0, 1], [1-p, p])[0]\n",
    "    for i in range(1, N):\n",
    "        # If the previous value was 0\n",
    "        if array[i-1] == 0:\n",
    "            array[i] = random.choices([0, 1], [p, 1-p])[0]\n",
    "        # If the previous value was 1\n",
    "        elif array[i-1] == 1:\n",
    "            array[i] = random.choices([0, 1], [1-p, p])[0]\n",
    "        \n",
    "        secuence += str(array[i])\n",
    "    \n",
    "    return str(secuence)\n",
    "\n",
    "# Set the parameters\n",
    "N = 20\n",
    "i = 0\n",
    "\n",
    "print(f\"La generacion aleatorioa de numeros dependiente es: {generate_sequence_dependent(N, i)}\")"
   ]
  },
  {
   "cell_type": "markdown",
   "metadata": {},
   "source": [
    "## Ejercicio 3\n",
    "Finally, choose N=200 and try the probabilities p={0.0, 0.1, 0.2, 0.3, 0.4, 0.5, 0.6, 0.7, 0.8, 0.9, 1.0}.  Can you by visual inspection of the output characterize the differences between sequences of independent and dependent random variables?"
   ]
  },
  {
   "cell_type": "code",
   "execution_count": 52,
   "metadata": {},
   "outputs": [
    {
     "name": "stdout",
     "output_type": "stream",
     "text": [
      "Con probabilidad: 0.0\n",
      "Da el numero dependiente: 101010101010101010101010101010101010101010101010101010101010101010101010101010101010101010101010101\n",
      "Da el numero independiente: 0000000000000000000000000000000000000000000000000000000000000000000000000000000000000000000000000000\n",
      "\n",
      "Con probabilidad: 0.1\n",
      "Da el numero dependiente: 101010101010101010101010101010101010110010110101010100101010010101010010101010100101010100101010111\n",
      "Da el numero independiente: 0000000001000000100000000000000000000000000100000000000000000000000000000001000100000000000000000000\n",
      "\n",
      "Con probabilidad: 0.2\n",
      "Da el numero dependiente: 101010100101010101011001010101010101010101010101100111100101011011010100010101001010101010101010110\n",
      "Da el numero independiente: 0110000000000000000000010011000000010000101110100000000000010000000000000000001000001101100000100000\n",
      "\n",
      "Con probabilidad: 0.3\n",
      "Da el numero dependiente: 110110100101010101010100111000101101010100100001001010110100101001101010101010100010101011010101110\n",
      "Da el numero independiente: 0111001011000111100100110101111100100101001101000100100000100100101110111001101101000000000000000000\n",
      "\n",
      "Con probabilidad: 0.4\n",
      "Da el numero dependiente: 110001010111001101010100100101110010111011010101000011101011101000010000001011001001110010100100011\n",
      "Da el numero independiente: 1101011100011001011000100010100011100001011110010111101110000111100011011111110110011001000111010100\n",
      "\n",
      "Con probabilidad: 0.5\n",
      "Da el numero dependiente: 110101000100100011111001100101000001010000110000011100011100111011110111010010100111011000001111000\n",
      "Da el numero independiente: 1000011110001100101001000101000111111101111111010010000101000010101000000010100001110011100101111000\n",
      "\n",
      "Con probabilidad: 0.6\n",
      "Da el numero dependiente: 010111011110111110100110010011000100000111111111110000111111100011111010101010000111111100010000001\n",
      "Da el numero independiente: 0110100101101010100111111111001010010101111110011111111111001111100101011000010110111110111111101101\n",
      "\n",
      "Con probabilidad: 0.7\n",
      "Da el numero dependiente: 111111111111111000111100100100000000000110010000000001101011110000000001110011000111111111110001000\n",
      "Da el numero independiente: 0010101110011100111111110101111110011111111111111011111111011111011010010110011101111011101111101011\n",
      "\n",
      "Con probabilidad: 0.8\n",
      "Da el numero dependiente: 001000010000111111111111111111001000000000111011111111111111111000000001000011011111000001100100000\n",
      "Da el numero independiente: 1001111111111111011110011101111011100101111110111001101111011111011110101101101010100011010111110111\n",
      "\n",
      "Con probabilidad: 0.9\n",
      "Da el numero dependiente: 110000000000000111000000000000000111000000010000000000000000111111111111000111111111111111100000000\n",
      "Da el numero independiente: 1111001111101111011111111101110111111101111111011111110111111111111010111111111110101111111111111111\n",
      "\n",
      "Con probabilidad: 1.0\n",
      "Da el numero dependiente: 111111111111111111111111111111111111111111111111111111111111111111111111111111111111111111111111111\n",
      "Da el numero independiente: 1111111111111111111111111111111111111111111111111111111111111111111111111111111111111111111111111111\n",
      "\n"
     ]
    }
   ],
   "source": [
    "import matplotlib.pyplot as plt\n",
    "# Probabilities\n",
    "probabilities = [0.0, 0.1, 0.2, 0.3, 0.4, 0.5, 0.6, 0.7, 0.8, 0.9, 1.0]\n",
    "arrayDepends = []\n",
    "arrayIndepend = []\n",
    "# For each probability\n",
    "for i in range(len(probabilities)):\n",
    "    dependent_sequence = generate_sequence_dependent(100, probabilities[i])\n",
    "    arrayDepends.append(dependent_sequence)\n",
    "\n",
    "    independent_sequence = generate_sequence_Independent(100, probabilities[i])\n",
    "    arrayIndepend.append(independent_sequence)\n",
    "\n",
    "for i in range(len(arrayDepends)):\n",
    "    print(F\"Con probabilidad: {probabilities[i]}\")\n",
    "    print(F\"Da el numero dependiente: {arrayDepends[i]}\")\n",
    "    print(F\"Da el numero independiente: {arrayIndepend[i]}\")\n",
    "    print(\"\")"
   ]
  },
  {
   "cell_type": "markdown",
   "metadata": {},
   "source": [
    "## Ejercicio 4\n",
    "Use a quantitative measure to check dependence.  In the case of binary random variables cov(X,Y) = P(X=1,Y=1) - P(X=1)P(Y=1) (Check https://csucidatamining.weebly.com/assign-3.html)."
   ]
  },
  {
   "cell_type": "code",
   "execution_count": 90,
   "metadata": {},
   "outputs": [
    {
     "name": "stdout",
     "output_type": "stream",
     "text": [
      "000010100\n",
      "0011111001\n",
      "Covariance: 0.0988\n"
     ]
    }
   ],
   "source": [
    "# Set the parameters\n",
    "N = 10\n",
    "p = 0.7\n",
    "\n",
    "# Generate dependent and independent binary sequences\n",
    "sequence_dependent = generate_sequence_dependent(N, p)\n",
    "sequence_independent = generate_sequence_Independent(N, p)\n",
    "\n",
    "print(sequence_dependent)\n",
    "print(sequence_independent)\n",
    "\n",
    "# Poner la sequencia dependiente e independiente en un array\n",
    "arrayDepends = []\n",
    "arrayIndepend = []\n",
    "for i in range(len(sequence_dependent)):\n",
    "    arrayDepends.append(int(sequence_dependent[i]))\n",
    "    arrayIndepend.append(int(sequence_independent[i]))\n",
    "\n",
    "sequence_dependent = arrayDepends\n",
    "sequence_independent = arrayIndepend\n",
    "# Calculate the covariance\n",
    "def calculate_covariance(sequence_dependent, sequence_independent):\n",
    "    covariance = np.mean([x*y for x, y in zip(sequence_dependent, sequence_independent)]) - np.mean(sequence_dependent) * np.mean(sequence_independent)\n",
    "    return covariance\n",
    "\n",
    "# Calculate the covariance\n",
    "covariance = calculate_covariance(sequence_dependent, sequence_independent)\n",
    "print(f\"Covariance: {covariance:.2f}\")"
   ]
  }
 ],
 "metadata": {
  "kernelspec": {
   "display_name": "env_notebook",
   "language": "python",
   "name": "python3"
  },
  "language_info": {
   "codemirror_mode": {
    "name": "ipython",
    "version": 3
   },
   "file_extension": ".py",
   "mimetype": "text/x-python",
   "name": "python",
   "nbconvert_exporter": "python",
   "pygments_lexer": "ipython3",
   "version": "3.11.5"
  }
 },
 "nbformat": 4,
 "nbformat_minor": 2
}
