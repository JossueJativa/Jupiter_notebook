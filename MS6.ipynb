{
 "cells": [
  {
   "cell_type": "markdown",
   "metadata": {},
   "source": [
    "# Ejercicios de semana 6"
   ]
  },
  {
   "cell_type": "markdown",
   "metadata": {},
   "source": [
    "## Ejercicio 1\n",
    "Generate a sequence of N independent random variables with values 0 (with probability 1-p) or 1 (with probability p) and print out this sequence without space between the numbers (i.e., 00101101011011101001, for N=20 and p=0.5)."
   ]
  },
  {
   "cell_type": "code",
   "execution_count": 2,
   "metadata": {},
   "outputs": [
    {
     "name": "stdout",
     "output_type": "stream",
     "text": [
      "La secuencia generada independiente es: 01110100111111110101\n"
     ]
    }
   ],
   "source": [
    "import random\n",
    "\n",
    "def generate_sequence_Independent(n, p):\n",
    "    sequence = ''\n",
    "    for _ in range(n):\n",
    "        sequence += str(int(random.random() < p))\n",
    "    return sequence\n",
    "\n",
    "n = 20\n",
    "i = 0.5\n",
    "\n",
    "print(F\"La secuencia generada independiente es: {generate_sequence_Independent(n, i)}\")"
   ]
  },
  {
   "cell_type": "markdown",
   "metadata": {},
   "source": [
    "## Ejercicio 2\n",
    "Now, generate random zeros and ones that are dependent.  If the last generated number was 0, the probability of generating a new 0 is p and a new 1 is 1-p. Conversely, if the last generated was 1, the probability of generating a new 1 is p and a new 0 is 1-p. Since the new value depends on the last one, we say the variables are dependent. Implement this algorithm in a function returning an array of N zeros and ones. Print out this array in the condense format as described above."
   ]
  },
  {
   "cell_type": "code",
   "execution_count": 3,
   "metadata": {},
   "outputs": [
    {
     "name": "stdout",
     "output_type": "stream",
     "text": [
      "La generacion aleatorioa de numeros dependiente es: 1010101010101010101\n"
     ]
    }
   ],
   "source": [
    "import numpy as np\n",
    "def generate_sequence_dependent(N, p):\n",
    "    # Initialize an array to store the generated sequence\n",
    "    secuence = ''\n",
    "    array = np.zeros(N, dtype=int)\n",
    "    \n",
    "    array[0] = random.choices([0, 1], [1-p, p])[0]\n",
    "    for i in range(1, N):\n",
    "        # If the previous value was 0\n",
    "        if array[i-1] == 0:\n",
    "            array[i] = random.choices([0, 1], [p, 1-p])[0]\n",
    "        # If the previous value was 1\n",
    "        elif array[i-1] == 1:\n",
    "            array[i] = random.choices([0, 1], [1-p, p])[0]\n",
    "        \n",
    "        secuence += str(array[i])\n",
    "    \n",
    "    return str(secuence)\n",
    "\n",
    "# Set the parameters\n",
    "N = 20\n",
    "i = 0\n",
    "\n",
    "print(f\"La generacion aleatorioa de numeros dependiente es: {generate_sequence_dependent(N, i)}\")"
   ]
  },
  {
   "cell_type": "markdown",
   "metadata": {},
   "source": [
    "## Ejercicio 3\n",
    "Finally, choose N=200 and try the probabilities p={0.0, 0.1, 0.2, 0.3, 0.4, 0.5, 0.6, 0.7, 0.8, 0.9, 1.0}.  Can you by visual inspection of the output characterize the differences between sequences of independent and dependent random variables?"
   ]
  },
  {
   "cell_type": "code",
   "execution_count": 4,
   "metadata": {},
   "outputs": [
    {
     "name": "stdout",
     "output_type": "stream",
     "text": [
      "Con probabilidad: 0.0\n",
      "Da el numero dependiente: 101010101010101010101010101010101010101010101010101010101010101010101010101010101010101010101010101\n",
      "Da el numero independiente: 0000000000000000000000000000000000000000000000000000000000000000000000000000000000000000000000000000\n",
      "\n",
      "Con probabilidad: 0.1\n",
      "Da el numero dependiente: 101010101010101010101100101001010010101010100101010101010101010110101010101010101010101001010101010\n",
      "Da el numero independiente: 0000000100000110001100100000000000010110000001001000000000100000000000000000110000000000000000000000\n",
      "\n",
      "Con probabilidad: 0.2\n",
      "Da el numero dependiente: 010001011010101001001010100101010101110101010101001010101010010110101010110101010110110010011010101\n",
      "Da el numero independiente: 1000010000001100000010000001000000000010001000000000011001001000100000000101000000001001110000011000\n",
      "\n",
      "Con probabilidad: 0.3\n",
      "Da el numero dependiente: 111010001101001011001101010010101001100110100110011110101111011011111011010101010101001101001110001\n",
      "Da el numero independiente: 0100110001100000000010000001010000000100000100000000010001100010000010100011001010000010000010000000\n",
      "\n",
      "Con probabilidad: 0.4\n",
      "Da el numero dependiente: 100010010011110011010011101010111010110001010101011000100110100001010110111010011111010100101011101\n",
      "Da el numero independiente: 0001000010100001001101010010100100001000100000011011100010000100110001110011001110001101011100101111\n",
      "\n",
      "Con probabilidad: 0.5\n",
      "Da el numero dependiente: 000011010100111010100101100011010001110000101110111010100010100010101110101010101011010100001011110\n",
      "Da el numero independiente: 1010010000010111000110010111111100110011111011110101001000101100111100001110110010011110110010100100\n",
      "\n",
      "Con probabilidad: 0.6\n",
      "Da el numero dependiente: 011000001001000011111001110000000010000110111001000111011110001011000000110100011000001111101111101\n",
      "Da el numero independiente: 1110111011101101010001100100010100101101110011010110100010010100111100100010111110111110100011110010\n",
      "\n",
      "Con probabilidad: 0.7\n",
      "Da el numero dependiente: 000111111010000111000000001111100000111111111110000111111000111000011111111110000111010010000111000\n",
      "Da el numero independiente: 1111101010110101100111111011111111101101011110110101111011110010110000111101011111000100011110101011\n",
      "\n",
      "Con probabilidad: 0.8\n",
      "Da el numero dependiente: 111111110000000110011100000101111000000001110111111100011110011000000000100001110000000000000011111\n",
      "Da el numero independiente: 1111111000111111110101111111110011111011111111111111111110111010111111011101111001111111111111110111\n",
      "\n",
      "Con probabilidad: 0.9\n",
      "Da el numero dependiente: 111111000000000111111000000111111111110000000000000001000000111111111111111110000111111111111111111\n",
      "Da el numero independiente: 1111111111111011111111111011111111111101111111111100101101011111101111111011011111011011111101111111\n",
      "\n",
      "Con probabilidad: 1.0\n",
      "Da el numero dependiente: 111111111111111111111111111111111111111111111111111111111111111111111111111111111111111111111111111\n",
      "Da el numero independiente: 1111111111111111111111111111111111111111111111111111111111111111111111111111111111111111111111111111\n",
      "\n"
     ]
    }
   ],
   "source": [
    "import matplotlib.pyplot as plt\n",
    "# Probabilities\n",
    "probabilities = [0.0, 0.1, 0.2, 0.3, 0.4, 0.5, 0.6, 0.7, 0.8, 0.9, 1.0]\n",
    "arrayDepends = []\n",
    "arrayIndepend = []\n",
    "# For each probability\n",
    "for i in range(len(probabilities)):\n",
    "    dependent_sequence = generate_sequence_dependent(100, probabilities[i])\n",
    "    arrayDepends.append(dependent_sequence)\n",
    "\n",
    "    independent_sequence = generate_sequence_Independent(100, probabilities[i])\n",
    "    arrayIndepend.append(independent_sequence)\n",
    "\n",
    "for i in range(len(arrayDepends)):\n",
    "    print(F\"Con probabilidad: {probabilities[i]}\")\n",
    "    print(F\"Da el numero dependiente: {arrayDepends[i]}\")\n",
    "    print(F\"Da el numero independiente: {arrayIndepend[i]}\")\n",
    "    print(\"\")"
   ]
  },
  {
   "cell_type": "markdown",
   "metadata": {},
   "source": [
    "## Ejercicio 4\n",
    "Use a quantitative measure to check dependence.  In the case of binary random variables cov(X,Y) = P(X=1,Y=1) - P(X=1)P(Y=1) (Check https://csucidatamining.weebly.com/assign-3.html)."
   ]
  },
  {
   "cell_type": "code",
   "execution_count": 15,
   "metadata": {},
   "outputs": [
    {
     "name": "stdout",
     "output_type": "stream",
     "text": [
      "111011011\n",
      "0011110011\n",
      "Covariance dependent: 0.17\n",
      "Covariance independent: 0.25\n"
     ]
    }
   ],
   "source": [
    "# Set the parameters\n",
    "N = 10\n",
    "p = 0.40\n",
    "\n",
    "# Generate dependent and independent binary sequences\n",
    "sequence_dependent = generate_sequence_dependent(N, p)\n",
    "sequence_independent = generate_sequence_Independent(N, p)\n",
    "\n",
    "print(sequence_dependent)\n",
    "print(sequence_independent)\n",
    "\n",
    "# Poner la sequencia dependiente e independiente en un array\n",
    "arrayDepends = []\n",
    "arrayIndepend = []\n",
    "for i in range(len(sequence_dependent)):\n",
    "    arrayDepends.append(int(sequence_dependent[i]))\n",
    "    arrayIndepend.append(int(sequence_independent[i]))\n",
    "\n",
    "sequence_dependent = arrayDepends\n",
    "sequence_independent = arrayIndepend\n",
    "# Calculate the covariance\n",
    "def calculate_covariance(sequence_dependent, sequence_independent):\n",
    "    covariance = np.mean([x*y for x, y in zip(sequence_dependent, sequence_independent)]) - np.mean(sequence_dependent) * np.mean(sequence_independent)\n",
    "    return covariance\n",
    "\n",
    "# Calculate the covariance\n",
    "covariance = calculate_covariance(sequence_dependent, sequence_dependent)\n",
    "print(f\"Covariance dependent: {covariance:.2f}\")\n",
    "\n",
    "covariance = calculate_covariance(sequence_independent, sequence_independent)\n",
    "print(f\"Covariance independent: {covariance:.2f}\")"
   ]
  }
 ],
 "metadata": {
  "kernelspec": {
   "display_name": "env_notebook",
   "language": "python",
   "name": "python3"
  },
  "language_info": {
   "codemirror_mode": {
    "name": "ipython",
    "version": 3
   },
   "file_extension": ".py",
   "mimetype": "text/x-python",
   "name": "python",
   "nbconvert_exporter": "python",
   "pygments_lexer": "ipython3",
   "version": "3.11.5"
  }
 },
 "nbformat": 4,
 "nbformat_minor": 2
}
