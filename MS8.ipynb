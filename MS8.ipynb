{
 "cells": [
  {
   "cell_type": "markdown",
   "metadata": {},
   "source": [
    "# EJERCICIO 1"
   ]
  },
  {
   "cell_type": "markdown",
   "metadata": {},
   "source": [
    "Una cadena de tiendas compra cierto tipo de dispositivo electrónico a un fabricante, el cual le indica que la tasa de dispositivos defectuosos es de 3%.  (a) El inspector de la cadena elige 20 artículos al azar de un cargamento, cuál es la probabilidad de qué haya al menos un artículo defectuoso entre estos 20?  (b) Suponga que el detallista recibe 10 cargamentos en un mes y que el inspector prueba aleatoriamente 20 dispositivos por cargamento, cuál es la probabilidad de que haya exactamente tres cargamentos que contengan al menos un dispositivo defectuoso de entre los 20 seleccionados y probados?"
   ]
  },
  {
   "cell_type": "markdown",
   "metadata": {},
   "source": [
    "A).- El inspector de la cadena elige 20 artículos al azar de un cargamento, cuál es la probabilidad de qué haya al menos un artículo defectuoso entre estos 20?"
   ]
  },
  {
   "cell_type": "markdown",
   "metadata": {},
   "source": [
    "## Parte calculada:\n",
    "\n",
    "Datos: \n",
    "\n",
    "- Dispositivos defectuosos: 3% -> 0.03\n",
    "\n",
    "a. El inspector de la cadena elige 20 artículos al azar de un cargamento, cuál es la probabilidad de qué haya al menos un artículo defectuoso entre estos 20? <br>\n",
    "   -> Formula\n",
    "\n",
    "\\begin{align*}\n",
    "P(X \\geq 1) &= 1 - P(X = 0) \\\\\n",
    "&= 1 - \\binom{20}{0} \\cdot 0.03^0 \\cdot (1 - 0.03)^{20} \\\\\n",
    "&= 1 - (0.97)^{20} \\\\\n",
    "&\\approx 1 - 0.54379 \\\\\n",
    "&\\approx 0.45620\n",
    "\\end{align*}\n",
    "\n",
    "- Suponga que el detallista recibe 10 cargamentos en un mes y que el inspector prueba aleatoriamente 20 dispositivos por cargamento, cuál es la probabilidad de que haya exactamente tres cargamentos que contengan al menos un dispositivo defectuoso de entre los 20 seleccionados y probados?\n",
    "\n",
    "\\begin{align*}\n",
    "P(X = 3) &= \\binom{10}{3} \\cdot 0.4562^3 - (1 - 0.4562)^{7} \\\\\n",
    "&= \\frac{10!}{7! \\cdot 3!} \\cdot 0.4562^3 \\cdot 0.5438^7 \\\\\n",
    "&= \\frac{10 \\cdot 9 \\cdot 8 \\cdot 7!}{3 \\cdot 2 \\cdot 1 \\cdot 7!} \\cdot 0.4562^3 \\cdot 0.5438^7 \\\\\n",
    "&= \\frac{10 \\cdot 9 \\cdot 8}{3 \\cdot 2 \\cdot 1} \\cdot 0.4562^3 \\cdot 0.5438^7 \\\\\n",
    "&= 120 \\cdot 0.4562^3 \\cdot 0.5438^7 \\\\\n",
    "&\\approx 0.16002\n",
    "\\end{align*}"
   ]
  },
  {
   "cell_type": "code",
   "execution_count": 1,
   "metadata": {},
   "outputs": [
    {
     "name": "stdout",
     "output_type": "stream",
     "text": [
      "Probabilidad de al menos un artículo defectuoso entre 20 artículos: 0.4564\n"
     ]
    }
   ],
   "source": [
    "import numpy as np\n",
    "\n",
    "def simulacion_dispositivos_defectuosos(num_simulaciones, num_articulos, tasa_defectuosos):\n",
    "    # Simular la compra de artículos para todas las simulaciones simultáneamente\n",
    "    simulaciones = np.random.rand(num_simulaciones, num_articulos) < tasa_defectuosos\n",
    "\n",
    "    # Contar el número de simulaciones con al menos un artículo defectuoso\n",
    "    simulaciones_con_defectuosos = np.any(simulaciones, axis=1).sum()\n",
    "\n",
    "    # Calcular la probabilidad\n",
    "    probabilidad = simulaciones_con_defectuosos / num_simulaciones\n",
    "    return probabilidad\n",
    "\n",
    "# Configuración de la simulación\n",
    "num_simulaciones = 1000000  # Número de simulaciones\n",
    "num_articulos = 20          # Número de artículos en cada simulación\n",
    "tasa_defectuosos = 0.03     # Tasa de dispositivos defectuosos (3%)\n",
    "\n",
    "# Ejecutar la simulación\n",
    "probabilidad = simulacion_dispositivos_defectuosos(num_simulaciones, num_articulos, tasa_defectuosos)\n",
    "\n",
    "# Imprimir resultados\n",
    "print(f\"Probabilidad de al menos un artículo defectuoso entre {num_articulos} artículos: {probabilidad:.4f}\")"
   ]
  },
  {
   "cell_type": "code",
   "execution_count": 65,
   "metadata": {},
   "outputs": [
    {
     "name": "stdout",
     "output_type": "stream",
     "text": [
      "Probabilidad de al menos un elemento exitoso entre 20: 0.4560\n"
     ]
    }
   ],
   "source": [
    "# Configuración del experimento\n",
    "probabilidad_exito_individual = 0.03\n",
    "numero_simulaciones = 100000\n",
    "\n",
    "# Inicialización del contador de simulaciones exitosas\n",
    "simulaciones_exitosas = 0\n",
    "\n",
    "# Realizar las simulaciones\n",
    "for _ in range(numero_simulaciones):\n",
    "    # Generar aleatoriamente 20 elementos con probabilidad de éxito individual\n",
    "    elementos_exitosos = np.random.rand(20) < probabilidad_exito_individual\n",
    "\n",
    "    # Verificar si al menos uno de los elementos es exitoso\n",
    "    if np.sum(elementos_exitosos) > 0:\n",
    "        simulaciones_exitosas += 1\n",
    "\n",
    "# Calcular la probabilidad de éxito global\n",
    "probabilidad_exito_global = simulaciones_exitosas / numero_simulaciones\n",
    "\n",
    "# Imprimir resultado\n",
    "print(f\"Probabilidad de al menos un elemento exitoso entre 20: {probabilidad_exito_global:.4f}\")"
   ]
  },
  {
   "cell_type": "markdown",
   "metadata": {},
   "source": [
    "B).- Suponga que el detallista recibe 10 cargamentos en un mes y que el inspector prueba aleatoriamente 20 dispositivos por cargamento, cuál es la probabilidad de que haya exactamente tres cargamentos que contengan al menos un dispositivo defectuoso de entre los 20 seleccionados y probados?"
   ]
  },
  {
   "cell_type": "code",
   "execution_count": 66,
   "metadata": {},
   "outputs": [
    {
     "name": "stdout",
     "output_type": "stream",
     "text": [
      "Probabilidad de tener exactamente 3 elementos exitosos entre 10: 0.16100\n"
     ]
    }
   ],
   "source": [
    "# Configuración del experimento\n",
    "probabilidad_exito_individual = 0.4562\n",
    "numero_simulaciones = 100000\n",
    "\n",
    "# Inicialización del contador de simulaciones exitosas\n",
    "simulaciones_exitosas = 0\n",
    "\n",
    "# Realizar las simulaciones\n",
    "for _ in range(numero_simulaciones):\n",
    "    # Generar aleatoriamente 10 elementos con probabilidad de éxito individual\n",
    "    elementos_exitosos = np.random.rand(10) < probabilidad_exito_individual\n",
    "\n",
    "    # Verificar si exactamente 3 elementos son exitosos\n",
    "    if np.sum(elementos_exitosos*1) == 3:\n",
    "        simulaciones_exitosas += 1\n",
    "\n",
    "# Calcular la probabilidad de tener exactamente 3 elementos exitosos\n",
    "probabilidad_tres_exitosos = simulaciones_exitosas / numero_simulaciones\n",
    "\n",
    "# Imprimir resultado\n",
    "print(f\"Probabilidad de tener exactamente 3 elementos exitosos entre 10: {probabilidad_tres_exitosos:.5f}\")"
   ]
  },
  {
   "cell_type": "markdown",
   "metadata": {},
   "source": [
    "# EJERCICIO 2\n",
    "Lotes con 40 componentes donde cada uno contenga 3 o más componentes defectuosos se consideran inaceptables. El procedimiento para obtener muestras del lote consiste en seleccionar 5 componentes al azar y rechazar el lote si se encuentra un componente defectuoso. Cuál es la probabilidad de que en la muestra, se encuentre exactamente un componente defectuoso, si en todo el lote hay 3 defectuosos?"
   ]
  },
  {
   "cell_type": "code",
   "execution_count": 67,
   "metadata": {},
   "outputs": [
    {
     "name": "stdout",
     "output_type": "stream",
     "text": [
      "Probabilidad estimada (alternativa): 0.30159\n"
     ]
    }
   ],
   "source": [
    "import random\n",
    "\n",
    "def experimento_alternativo():\n",
    "    lote = [0] * 37 + [1] * 3\n",
    "    muestra = random.sample(lote, 5)\n",
    "    return 1 if 1 in muestra and muestra.count(1) == 1 else 0\n",
    "\n",
    "# Número de experimentos simulados\n",
    "num_experimentos = 100000\n",
    "num_exitosos = sum(experimento_alternativo() for _ in range(num_experimentos))\n",
    "probabilidad = num_exitosos / num_experimentos\n",
    "\n",
    "print(\"Probabilidad estimada (alternativa):\", probabilidad)"
   ]
  },
  {
   "cell_type": "markdown",
   "metadata": {},
   "source": [
    "# EJERCICIO 3\n",
    "En un río en particular, las inundaciones por desbordamiento ocurren en promedio una vez cada 100 años. Calcule la probabilidad de k = 0, 1, 2, 3, 4, 5, 6 inundaciones por desbordamiento en un intervalo de 100 años, suponiendo que el modelo de Poisson es apropiado."
   ]
  },
  {
   "cell_type": "code",
   "execution_count": 68,
   "metadata": {},
   "outputs": [
    {
     "name": "stdout",
     "output_type": "stream",
     "text": [
      "Probabilidad de 0 inundaciones (alternativa): 0.36788\n",
      "Probabilidad de 1 inundaciones (alternativa): 0.36788\n",
      "Probabilidad de 2 inundaciones (alternativa): 0.18394\n",
      "Probabilidad de 3 inundaciones (alternativa): 0.06131\n",
      "Probabilidad de 4 inundaciones (alternativa): 0.01533\n",
      "Probabilidad de 5 inundaciones (alternativa): 0.00307\n",
      "Probabilidad de 6 inundaciones (alternativa): 0.00051\n"
     ]
    }
   ],
   "source": [
    "import math\n",
    "\n",
    "def poisson_prob_alternativo(lmbda, k):\n",
    "    return (lmbda**k * math.exp(-lmbda)) / math.factorial(k)\n",
    "\n",
    "def simulacion_poisson_alternativa(lmbda, num_simulaciones):\n",
    "    probabilidades = [poisson_prob_alternativo(lmbda, k) for k in range(num_simulaciones)]\n",
    "    return probabilidades\n",
    "\n",
    "# Promedio de inundaciones por desbordamiento por 100 años\n",
    "lmbda = 1 # Una inundación cada 100 años en promedio\n",
    "\n",
    "# Número de eventos que queremos calcular la probabilidad\n",
    "num_simulaciones = 7\n",
    "\n",
    "# Realiza la simulación con la alternativa\n",
    "resultados_alternativos = simulacion_poisson_alternativa(lmbda, num_simulaciones)\n",
    "\n",
    "# Imprime las probabilidades para k = 0, 1, 2, 3, 4, 5, 6\n",
    "for k, probabilidad in enumerate(resultados_alternativos):\n",
    "    print(f\"Probabilidad de {k} inundaciones (alternativa): {probabilidad:.5f}\")"
   ]
  },
  {
   "cell_type": "code",
   "execution_count": 69,
   "metadata": {},
   "outputs": [
    {
     "name": "stdout",
     "output_type": "stream",
     "text": [
      "Probabilidad de 0 inundaciones: 0.3652\n",
      "Probabilidad de 1 inundaciones: 0.3722\n",
      "Probabilidad de 2 inundaciones: 0.1829\n",
      "Probabilidad de 3 inundaciones: 0.0620\n",
      "Probabilidad de 4 inundaciones: 0.0141\n",
      "Probabilidad de 5 inundaciones: 0.0031\n",
      "Probabilidad de 6 inundaciones: 0.0005\n"
     ]
    }
   ],
   "source": [
    "# Configuración de la simulación\n",
    "promedio_inundaciones = 1 / 100  # Promedio de inundaciones por año\n",
    "repeticiones = 100000  # Número de simulaciones\n",
    "anos_simulados = 100  # Número de años en cada simulación\n",
    "\n",
    "# Realizar la simulación\n",
    "resultados = np.random.binomial(anos_simulados, promedio_inundaciones, repeticiones)\n",
    "\n",
    "# Calcular la probabilidad de k inundaciones para k=0, 1, 2, ..., 6\n",
    "probabilidades = [np.mean(resultados == k) for k in range(7)]\n",
    "\n",
    "# Imprimir resultados\n",
    "for k, prob_k in enumerate(probabilidades):\n",
    "    print(f\"Probabilidad de {k} inundaciones: {prob_k:.4f}\")"
   ]
  },
  {
   "cell_type": "markdown",
   "metadata": {},
   "source": [
    "# EJERCICIO 4\n",
    "En “momentos ajetreados” un conmutador telefónico está muy cerca de su límite de capacidad, por lo que los usuarios tienen dificultad para hacer sus llamadas. Sería interesante saber cuantos intentos serían necesarios para conseguir un enlace telefónico. Suponga que la probabilidad de conseguir un enlace durante un momento ajetreado es p = 0.05. Nos interesa conocer la probabilidad de que se necesiten 5 intentos para enlazar con éxito una llamada."
   ]
  },
  {
   "cell_type": "code",
   "execution_count": 70,
   "metadata": {},
   "outputs": [
    {
     "name": "stdout",
     "output_type": "stream",
     "text": [
      "Probabilidad de necesitar 5 intentos para un enlace exitoso: 0.0402\n"
     ]
    }
   ],
   "source": [
    "import numpy as np\n",
    "\n",
    "def simulacion_exitos_geometrica(probabilidad_exito, intentos_simulacion):\n",
    "    exitos = np.random.geometric(probabilidad_exito, intentos_simulacion)\n",
    "    probabilidad = np.mean(exitos == 5)\n",
    "    return probabilidad\n",
    "\n",
    "# Parámetros\n",
    "probabilidad_exito = 0.05\n",
    "intentos_simulacion = 100000  # Número de simulaciones\n",
    "\n",
    "# Realizar la simulación con distribución geométrica\n",
    "probabilidad = simulacion_exitos_geometrica(probabilidad_exito, intentos_simulacion)\n",
    "\n",
    "# Imprimir resultado\n",
    "print(f\"Probabilidad de necesitar 5 intentos para un enlace exitoso: {probabilidad:.4f}\")"
   ]
  },
  {
   "cell_type": "markdown",
   "metadata": {},
   "source": [
    "# EJERCICIO 5\n",
    "Una compañía petrolera realiza un estudio geológico que indica que una perforación petrolera exploratoria tiene un 20% de posibilidades de encontrar petróleo.  (a) Cuál es la probabilidad de que el primer pozo se produzca en la tercer perforación?  (b) Cuál es la probabilidad de que el tercer pozo se produzca en la séptima perforación?  (c) Cuál es la media y la varianza del número de pozos que se deben perforar si la compañía petrolera quiere establecer tres pozos productores?"
   ]
  },
  {
   "cell_type": "code",
   "execution_count": 71,
   "metadata": {},
   "outputs": [
    {
     "name": "stdout",
     "output_type": "stream",
     "text": [
      "(a) Probabilidad de que el primer pozo sea en la tercera perforación: 0.1280\n",
      "(b) Probabilidad de que el tercer pozo sea en la séptima perforación: 0.0524\n",
      "(c) Media del número de pozos necesarios: 5.00\n",
      "    Varianza del número de pozos necesarios: 20.00\n"
     ]
    }
   ],
   "source": [
    "def probabilidad_exito_k(p, k):\n",
    "    return (1 - p)**(k - 1) * p\n",
    "\n",
    "def estadisticas_proceso_perforacion(p):\n",
    "    media = 1 / p\n",
    "    varianza = (1 - p) / p**2\n",
    "    return media, varianza\n",
    "\n",
    "# Parámetros\n",
    "p = 0.2  # Probabilidad de éxito\n",
    "k_a = 3  # Número de intentos para el primer éxito en el punto (a)\n",
    "k_b = 7  # Número de intentos para el tercer éxito en el punto (b)\n",
    "\n",
    "# (a) Probabilidad de que el primer pozo se produzca en la tercera perforación\n",
    "prob_a = probabilidad_exito_k(p, k_a)\n",
    "\n",
    "# (b) Probabilidad de que el tercer pozo se produzca en la séptima perforación\n",
    "prob_b = probabilidad_exito_k(p, k_b)\n",
    "\n",
    "# (c) Media y varianza\n",
    "media, varianza = estadisticas_proceso_perforacion(p)\n",
    "\n",
    "# Imprimir resultados\n",
    "print(f\"(a) Probabilidad de que el primer pozo sea en la tercera perforación: {prob_a:.4f}\")\n",
    "print(f\"(b) Probabilidad de que el tercer pozo sea en la séptima perforación: {prob_b:.4f}\")\n",
    "print(f\"(c) Media del número de pozos necesarios: {media:.2f}\")\n",
    "print(f\"    Varianza del número de pozos necesarios: {varianza:.2f}\")"
   ]
  },
  {
   "cell_type": "code",
   "execution_count": 72,
   "metadata": {},
   "outputs": [
    {
     "name": "stdout",
     "output_type": "stream",
     "text": [
      "Probabilidad de localizar petróleo por primera vez en el tercer pozo: 0.1268\n",
      "Media del número de pozos necesarios:4.9902\n"
     ]
    }
   ],
   "source": [
    "def simulacion_geometrica(p, objetivo, num_simulaciones):\n",
    "    resultados = np.random.geometric(p, num_simulaciones)\n",
    "    \n",
    "    exitos = np.sum(resultados == objetivo)\n",
    "    probabilidad = exitos / num_simulaciones\n",
    "    media = np.mean(resultados)\n",
    "\n",
    "    return probabilidad, media\n",
    "\n",
    "# Parámetros\n",
    "p = 0.2  # Probabilidad de éxito\n",
    "objetivo = 3  # Número de pozos para el primer éxito\n",
    "num_simulaciones = 100000  # Número de simulaciones\n",
    "\n",
    "# Realizar la simulación\n",
    "probabilidad, media = simulacion_geometrica(p, objetivo, num_simulaciones)\n",
    "\n",
    "# Imprimir resultados\n",
    "print(f\"Probabilidad de localizar petróleo por primera vez en el tercer pozo: {probabilidad:.4f}\")\n",
    "print(f\"Media del número de pozos necesarios:{media:.4f}\")"
   ]
  },
  {
   "cell_type": "code",
   "execution_count": 81,
   "metadata": {},
   "outputs": [
    {
     "name": "stdout",
     "output_type": "stream",
     "text": [
      "Probability of third success on seventh trial:  0.049274\n"
     ]
    }
   ],
   "source": [
    "num_simulations = 1000000\n",
    "success_probability = 0.20\n",
    "third_success_seventh_trial = 0\n",
    "\n",
    "for _ in range(num_simulations):\n",
    "    successes = 0\n",
    "    trials = 0\n",
    "    while successes < 3 and trials < 7:\n",
    "        if random.random() < success_probability:\n",
    "            successes += 1\n",
    "        trials += 1\n",
    "    if successes == 3 and trials == 7:\n",
    "        third_success_seventh_trial += 1\n",
    "\n",
    "print(\"Probability of third success on seventh trial: \", third_success_seventh_trial / num_simulations)"
   ]
  },
  {
   "cell_type": "code",
   "execution_count": 89,
   "metadata": {},
   "outputs": [
    {
     "name": "stdout",
     "output_type": "stream",
     "text": [
      "Media: 15.0097\n",
      "Varianza: 60.9684\n"
     ]
    }
   ],
   "source": [
    "# Configuración de la simulación\n",
    "encontrar_petroleo = 0.2\n",
    "repeticiones = 10000\n",
    "pozos_objetivo = 3\n",
    "\n",
    "# Inicializar variables para la sumatoria\n",
    "sumatoria_len = 0\n",
    "sumatoria_len_cuadrado = 0\n",
    "\n",
    "for _ in range(repeticiones):\n",
    "    cant_pozos = 0\n",
    "    pozos_perforados = 0\n",
    "\n",
    "    while cant_pozos < pozos_objetivo:\n",
    "        nuevo_pozo = np.random.choice([0, 1], p=[1 - encontrar_petroleo, encontrar_petroleo])\n",
    "        pozos_perforados += 1\n",
    "        cant_pozos += nuevo_pozo\n",
    "\n",
    "    # Guardar la cantidad de pozos necesarios en cada repetición\n",
    "    sumatoria_len += pozos_perforados\n",
    "    sumatoria_len_cuadrado += pozos_perforados ** 2\n",
    "\n",
    "# Calcular la media y la varianza\n",
    "media = sumatoria_len / repeticiones\n",
    "varianza = (sumatoria_len_cuadrado / repeticiones) - (media ** 2)\n",
    "\n",
    "# Imprimir resultados\n",
    "print(f\"Media: {media:.4f}\")\n",
    "print(f\"Varianza: {varianza:.4f}\")"
   ]
  }
 ],
 "metadata": {
  "kernelspec": {
   "display_name": "env_notebook",
   "language": "python",
   "name": "python3"
  },
  "language_info": {
   "codemirror_mode": {
    "name": "ipython",
    "version": 3
   },
   "file_extension": ".py",
   "mimetype": "text/x-python",
   "name": "python",
   "nbconvert_exporter": "python",
   "pygments_lexer": "ipython3",
   "version": "3.11.5"
  }
 },
 "nbformat": 4,
 "nbformat_minor": 2
}
